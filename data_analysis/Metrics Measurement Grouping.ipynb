{
 "cells": [
  {
   "cell_type": "code",
   "execution_count": 2,
   "metadata": {},
   "outputs": [
    {
     "name": "stdout",
     "output_type": "stream",
     "text": [
      "Collecting pymysql\n",
      "\u001b[?25l  Downloading https://files.pythonhosted.org/packages/ed/39/15045ae46f2a123019aa968dfcba0396c161c20f855f11dea6796bcaae95/PyMySQL-0.9.3-py2.py3-none-any.whl (47kB)\n",
      "\u001b[K    100% |████████████████████████████████| 51kB 13.0MB/s ta 0:00:01\n",
      "\u001b[?25hInstalling collected packages: pymysql\n",
      "Successfully installed pymysql-0.9.3\n",
      "\u001b[33mYou are using pip version 10.0.1, however version 20.1b1 is available.\n",
      "You should consider upgrading via the 'pip install --upgrade pip' command.\u001b[0m\n"
     ]
    }
   ],
   "source": [
    "! pip3 install pymysql\n",
    "# ! pip install pymysql\n",
    "\n",
    "import pymysql as MySQLdb\n",
    "# import mysql.connector\n",
    "import pandas as pd\n",
    "import numpy as np\n",
    "pd.options.display.float_format = '{:,.8f}'.format\n",
    "\n",
    "cnx = MySQLdb.connect(user='admin', password='rdx-mysql',\n",
    "                              host='database-1.ccbb7nilplok.us-east-1.rds.amazonaws.com',\n",
    "                              database='etl')\n",
    "\n",
    "# cnx = mysql.connector.connect(user='admin', password='rdx-mysql',\n",
    "#                               host='database-1.ccbb7nilplok.us-east-1.rds.amazonaws.com',\n",
    "#                               database='etl')"
   ]
  },
  {
   "cell_type": "code",
   "execution_count": 3,
   "metadata": {},
   "outputs": [],
   "source": [
    "def get_by_metric_name (cnx, name):\n",
    "    cursor = cnx.cursor()\n",
    "    query = (\"SELECT RECON_ID,NEW_BUS_ID,SITE,MEASURED_VALUE FROM event_logs_3 WHERE METRIC_NAME = \\\"\" \n",
    "             + name + \"\\\"\")    \n",
    "    cursor.execute(query)\n",
    "    values = list(cursor.fetchall())\n",
    "    header = cursor.description\n",
    "    cursor.close()\n",
    "    columns = [i[0] for i in header]\n",
    "    raw = pd.DataFrame(values, columns = columns)\n",
    "    return raw"
   ]
  },
  {
   "cell_type": "code",
   "execution_count": 4,
   "metadata": {},
   "outputs": [],
   "source": [
    "def percentile(n):\n",
    "    def percentile_(x):\n",
    "        return np.percentile(x, n)\n",
    "    percentile_.__name__ = 'percentile_%s' % n\n",
    "    return percentile_"
   ]
  },
  {
   "cell_type": "code",
   "execution_count": 6,
   "metadata": {},
   "outputs": [],
   "source": [
    "def group_agg (raw, level):\n",
    "    group = raw.groupby(level)\n",
    "    agg = group.MEASURED_VALUE.agg(['mean', 'count', 'std', percentile(10),percentile(20),percentile(30)\n",
    "                                   ,percentile(40),percentile(50),percentile(60),percentile(70)\n",
    "                                   ,percentile(80),percentile(90),percentile(99)])\n",
    "    return agg"
   ]
  },
  {
   "cell_type": "code",
   "execution_count": 7,
   "metadata": {},
   "outputs": [],
   "source": [
    "def extract_metric_group (raw):\n",
    "    raw.loc[raw['SITE'] =='MMSB400MinutemanRd','SITE'] = 'MM400MinutemanRd'\n",
    "    raw['MEASURED_VALUE'] = raw['MEASURED_VALUE'].astype(float)\n",
    "    raw = raw[raw['MEASURED_VALUE'] <= 105]\n",
    "    site_group_agg = group_agg(raw, 'SITE')\n",
    "    cus_group_agg = group_agg(raw, 'NEW_BUS_ID')\n",
    "    dev_group_agg = group_agg(raw, 'RECON_ID')\n",
    "    return site_group_agg, cus_group_agg, dev_group_agg"
   ]
  },
  {
   "cell_type": "code",
   "execution_count": 8,
   "metadata": {},
   "outputs": [],
   "source": [
    "def write_metric_group_to_csv (cnx, metric_name):\n",
    "    raw = get_by_metric_name(cnx,metric_name)\n",
    "    site_group_agg, cus_group_agg, dev_group_agg = extract_metric_group(raw)\n",
    "    for file_name,df in zip([metric_name+'_site_group_agg', metric_name+'_cus_group_agg', metric_name+'_dev_group_agg']\n",
    "                        ,[site_group_agg, cus_group_agg, dev_group_agg]):\n",
    "        df.to_csv(file_name+'.csv')"
   ]
  },
  {
   "cell_type": "code",
   "execution_count": 9,
   "metadata": {},
   "outputs": [],
   "source": [
    "write_metric_group_to_csv(cnx,'used')"
   ]
  },
  {
   "cell_type": "code",
   "execution_count": 10,
   "metadata": {},
   "outputs": [],
   "source": [
    "write_metric_group_to_csv(cnx,'LDldFreeSpacePct')"
   ]
  },
  {
   "cell_type": "code",
   "execution_count": null,
   "metadata": {},
   "outputs": [],
   "source": [
    "write_metric_group_to_csv(cnx,'utilization')"
   ]
  },
  {
   "cell_type": "code",
   "execution_count": null,
   "metadata": {},
   "outputs": [],
   "source": [
    "write_metric_group_to_csv(cnx,'dskPercent')"
   ]
  },
  {
   "cell_type": "code",
   "execution_count": null,
   "metadata": {},
   "outputs": [],
   "source": [
    "write_metric_group_to_csv(cnx,'PctFree')"
   ]
  },
  {
   "cell_type": "code",
   "execution_count": null,
   "metadata": {},
   "outputs": [],
   "source": [
    "write_metric_group_to_csv(cnx,'PctTotal')"
   ]
  }
 ],
 "metadata": {
  "kernelspec": {
   "display_name": "Python 3",
   "language": "python",
   "name": "python3"
  },
  "language_info": {
   "codemirror_mode": {
    "name": "ipython",
    "version": 3
   },
   "file_extension": ".py",
   "mimetype": "text/x-python",
   "name": "python",
   "nbconvert_exporter": "python",
   "pygments_lexer": "ipython3",
   "version": "3.7.6"
  }
 },
 "nbformat": 4,
 "nbformat_minor": 2
}
