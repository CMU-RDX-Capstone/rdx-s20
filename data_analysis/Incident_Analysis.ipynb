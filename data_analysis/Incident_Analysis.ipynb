{
 "cells": [
  {
   "cell_type": "code",
   "execution_count": 1,
   "metadata": {},
   "outputs": [],
   "source": [
    "import pandas as pd"
   ]
  },
  {
   "cell_type": "code",
   "execution_count": null,
   "metadata": {},
   "outputs": [],
   "source": [
    "header = ['DESTINATION','CORE_TIME','POLLER_TIME','TARGET_ID',\n",
    "           'POLICY_ID','POLICY_TYPE','DETECTED_SEVERITY','PROPAGATED_SEVERITY',\n",
    "           'LOW_THRESHOLD','MEASURED_VALUE','HIGH_THRESHOLD','PROPAGATED_FLAG','EVENT_CODE',\n",
    "           'METRIC_NAME','RECON_ID','BUS_ID','PARENT_BUS_ID','NEW_BUS_ID','RECONCILIATION_NUM',\n",
    "           'DEVICE_TYPE','OPERATING_SYSTEM','RECONCILIATION_ID','SITE','TYPE_NAME',\n",
    "           'IS_VIRTUAL','PARENT_TARGET_ID','MONITOR_DESC', 'CRAP']\n",
    "events = pd.read_csv(\"event-logs-merged.csv\", names = header)"
   ]
  },
  {
   "cell_type": "code",
   "execution_count": null,
   "metadata": {},
   "outputs": [],
   "source": [
    "events = events[['CORE_TIME','TARGET_ID','PARENT_TARGET_ID', 'MONITOR_DESC','DETECTED_SEVERITY',\n",
    "        'PROPAGATED_SEVERITY','MEASURED_VALUE','LOW_THRESHOLD',\n",
    "        'HIGH_THRESHOLD','PROPAGATED_FLAG','EVENT_CODE',\n",
    "        'RECON_ID', 'NEW_BUS_ID', 'RECONCILIATION_NUM', 'DEVICE_TYPE', 'OPERATING_SYSTEM',\n",
    "        'RECONCILIATION_ID','SITE','TYPE_NAME','IS_VIRTUAL']]"
   ]
  },
  {
   "cell_type": "code",
   "execution_count": null,
   "metadata": {},
   "outputs": [],
   "source": [
    "events.describe()"
   ]
  },
  {
   "cell_type": "code",
   "execution_count": null,
   "metadata": {},
   "outputs": [],
   "source": [
    "events = events.reset_index()"
   ]
  },
  {
   "cell_type": "code",
   "execution_count": null,
   "metadata": {},
   "outputs": [],
   "source": [
    "print(events['EVENT_CODE'].unique())\n",
    "print(len(events['NEW_BUS_ID'].unique()))\n",
    "print(events['OPERATING_SYSTEM'].unique())"
   ]
  },
  {
   "cell_type": "code",
   "execution_count": 38,
   "metadata": {},
   "outputs": [],
   "source": [
    "header = ['INCIDENT_ID','SUBMIT_DATE','SUBMIT_DATE_MS','BUS_ID','EVENT_CODE','RECON_ID','EVENT_CODE_ID']\n",
    "incident = pd.read_csv(\"incident-details-merged.csv\", names = header)"
   ]
  },
  {
   "cell_type": "code",
   "execution_count": 6,
   "metadata": {},
   "outputs": [],
   "source": [
    "incident['SUBMIT_DATE']=pd.to_datetime(incident[\"SUBMIT_DATE\"], format='%d-%b-%Y %H:%M:%S')"
   ]
  },
  {
   "cell_type": "code",
   "execution_count": 24,
   "metadata": {},
   "outputs": [],
   "source": [
    "incident['WORKDAY']=incident['SUBMIT_DATE'].dt.weekday\n",
    "incident['HOUR']=incident['SUBMIT_DATE'].dt.hour"
   ]
  },
  {
   "cell_type": "code",
   "execution_count": 44,
   "metadata": {},
   "outputs": [
    {
     "data": {
      "text/plain": [
       "'1-Apr-2019 00:02:40'"
      ]
     },
     "execution_count": 44,
     "metadata": {},
     "output_type": "execute_result"
    }
   ],
   "source": [
    "incident['SUBMIT_DATE'].min()"
   ]
  },
  {
   "cell_type": "code",
   "execution_count": 25,
   "metadata": {},
   "outputs": [],
   "source": [
    "df = pd.DataFrame(incident.groupby(['WORKDAY','HOUR'])['INCIDENT_ID'].count()) "
   ]
  },
  {
   "cell_type": "code",
   "execution_count": 36,
   "metadata": {},
   "outputs": [
    {
     "data": {
      "image/png": "[encoded data removed]",
      "text/plain": [
       "<Figure size 432x288 with 2 Axes>"
      ]
     },
     "metadata": {},
     "output_type": "display_data"
    }
   ],
   "source": [
    "import pandas as pd\n",
    "import numpy as np; np.random.seed(0)\n",
    "import seaborn.apionly as sns\n",
    "import matplotlib.pyplot as plt\n",
    "\n",
    "# create dataframe with datetime as index and aggregated (frequency) values\n",
    "# date = pd.date_range('2017-02-23', periods=10*12, freq='2h')\n",
    "# freq = np.random.poisson(lam=2, size=(len(date)))\n",
    "# df = pd.DataFrame({\"freq\":freq}, index=date)\n",
    "\n",
    "# add a column hours and days\n",
    "# df[\"hours\"] = incident[\"SUBMIT_DATE\"].hour\n",
    "# df[\"days\"] = incident[\"SUBMIT_DATE\"].day\n",
    "# create pivot table, days will be columns, hours will be rows\n",
    "piv = pd.pivot_table(df, values=\"INCIDENT_ID\",index=[\"WORKDAY\"], columns=[\"HOUR\"], fill_value=0)\n",
    "#plot pivot table as heatmap using seaborn\n",
    "# plt.figure(figsize=(15,20))\n",
    "ax = sns.heatmap(piv, square=True)\n",
    "plt.setp( ax.xaxis.get_majorticklabels(), rotation=90 )\n",
    "plt.tight_layout()\n",
    "plt.show()"
   ]
  },
  {
   "cell_type": "code",
   "execution_count": null,
   "metadata": {},
   "outputs": [],
   "source": []
  },
  {
   "cell_type": "code",
   "execution_count": null,
   "metadata": {},
   "outputs": [],
   "source": []
  },
  {
   "cell_type": "code",
   "execution_count": null,
   "metadata": {},
   "outputs": [],
   "source": [
    "start = events[\"CORE_TIME\"].min()\n",
    "end = events[\"CORE_TIME\"].max()"
   ]
  },
  {
   "cell_type": "code",
   "execution_count": null,
   "metadata": {},
   "outputs": [],
   "source": [
    "BUFFER = 120*60*60\n",
    "incidents_core = incident[(incident['SUBMIT_DATE_MS'] < end + BUFFER)\n",
    "         & (incident['SUBMIT_DATE_MS'] > start)\n",
    "         & (incident['EVENT_CODE'].isin(events_core['EVENT_CODE']))]"
   ]
  },
  {
   "cell_type": "code",
   "execution_count": null,
   "metadata": {},
   "outputs": [],
   "source": [
    "incidents_core"
   ]
  },
  {
   "cell_type": "code",
   "execution_count": null,
   "metadata": {},
   "outputs": [],
   "source": [
    "# might_have_something = incidents_core.merge(events, left_on=['EVENT_CODE','RECON_ID'], \n",
    "#                                             right_on = ['EVENT_CODE','RECON_ID'], how=\"inner\")\n",
    "might_have_something = incidents_core.merge(events, left_on=['RECON_ID'], \n",
    "                                            right_on = ['RECON_ID'], how=\"inner\")"
   ]
  },
  {
   "cell_type": "code",
   "execution_count": null,
   "metadata": {},
   "outputs": [],
   "source": [
    "might_have_something"
   ]
  },
  {
   "cell_type": "code",
   "execution_count": null,
   "metadata": {},
   "outputs": [],
   "source": [
    "print(len(incidents_core['INCIDENT_ID'].unique()))\n",
    "print(len(might_have_something['INCIDENT_ID'].unique()))"
   ]
  },
  {
   "cell_type": "code",
   "execution_count": null,
   "metadata": {},
   "outputs": [],
   "source": [
    "might_have_something['GAP'] = (might_have_something['SUBMIT_DATE_MS'] - might_have_something['CORE_TIME'])/60/60"
   ]
  },
  {
   "cell_type": "code",
   "execution_count": null,
   "metadata": {},
   "outputs": [],
   "source": [
    "might_have_something['GAP'].describe()"
   ]
  },
  {
   "cell_type": "code",
   "execution_count": null,
   "metadata": {},
   "outputs": [],
   "source": [
    "might_have_something[(might_have_something['GAP'] < 49) & (might_have_something['GAP'] > 0)].sort_values(\"GAP\")"
   ]
  },
  {
   "cell_type": "code",
   "execution_count": null,
   "metadata": {},
   "outputs": [],
   "source": [
    "print(might_have_something[\"index\"].unique().shape)\n",
    "print(might_have_something[\"INCIDENT_ID\"].unique().shape)"
   ]
  },
  {
   "cell_type": "code",
   "execution_count": null,
   "metadata": {},
   "outputs": [],
   "source": [
    "events_core[\"lead_to_event\"] = events[\"index\"].isin(might_have_something[\"index\"])"
   ]
  },
  {
   "cell_type": "code",
   "execution_count": null,
   "metadata": {},
   "outputs": [],
   "source": [
    "print(events_core['metric_name'].unique().shape)\n",
    "print(events_core['event_code'].unique().shape)\n",
    "print(events_core['recon_id'].unique().shape)"
   ]
  },
  {
   "cell_type": "code",
   "execution_count": null,
   "metadata": {},
   "outputs": [],
   "source": [
    "print(might_have_something['metric_name'].unique())\n",
    "print(might_have_something['event_code'].unique())\n",
    "print(might_have_something['recon_id'].unique().shape)"
   ]
  },
  {
   "cell_type": "code",
   "execution_count": null,
   "metadata": {},
   "outputs": [],
   "source": [
    "def extactReconFromCluster(clusters, threshold):\n",
    "    recons_in_cluster = set()\n",
    "    for cluster in clusters:\n",
    "        if (len(cluster) > threshold):\n",
    "            for event in cluster:\n",
    "                recons_in_cluster.add(event[\"RECON_ID\"])\n",
    "    return recons_in_cluster"
   ]
  },
  {
   "cell_type": "code",
   "execution_count": null,
   "metadata": {},
   "outputs": [],
   "source": [
    "# extract_1 = extactReconFromCluster(event_clusters_5,1)\n",
    "# extract_5 = extactReconFromCluster(event_clusters_5,5)\n",
    "# extract_8 = extactReconFromCluster(event_clusters_5,8)\n",
    "# extract_15 = extactReconFromCluster(event_clusters_5,15)\n",
    "# print(len(extract_1))\n",
    "# print(len(extract_5))\n",
    "# print(len(extract_8))\n",
    "# print(len(extract_15))"
   ]
  },
  {
   "cell_type": "code",
   "execution_count": null,
   "metadata": {},
   "outputs": [],
   "source": [
    "import numpy as np\n",
    "import pandas as pd\n",
    "from sklearn.ensemble import RandomForestClassifier\n",
    "from sklearn.model_selection import train_test_split\n",
    "from sklearn.metrics import recall_score\n",
    "from imblearn.over_sampling import SMOTENC"
   ]
  },
  {
   "cell_type": "code",
   "execution_count": null,
   "metadata": {},
   "outputs": [],
   "source": [
    "x_train, x_val, y_train, y_val = train_test_split(events_core.drop(['index','lead_to_event'], axis=1), \n",
    "                                                  events_core['lead_to_event'],\n",
    "                                                  test_size = .1,\n",
    "                                                  random_state=12)"
   ]
  },
  {
   "cell_type": "code",
   "execution_count": null,
   "metadata": {},
   "outputs": [],
   "source": [
    "sm = SMOTENC(random_state=12, categorical_features=[3,4,5])\n",
    "x_train_res, y_train_res = sm.fit_sample(x_train, y_train)"
   ]
  }
 ],
 "metadata": {
  "kernelspec": {
   "display_name": "conda_python3",
   "language": "python",
   "name": "conda_python3"
  },
  "language_info": {
   "codemirror_mode": {
    "name": "ipython",
    "version": 3
   },
   "file_extension": ".py",
   "mimetype": "text/x-python",
   "name": "python",
   "nbconvert_exporter": "python",
   "pygments_lexer": "ipython3",
   "version": "3.6.5"
  }
 },
 "nbformat": 4,
 "nbformat_minor": 2
}
