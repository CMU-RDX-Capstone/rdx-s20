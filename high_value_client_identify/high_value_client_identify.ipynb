{
 "cells": [
  {
   "cell_type": "markdown",
   "metadata": {},
   "source": [
    "# Dataset Description"
   ]
  },
  {
   "cell_type": "code",
   "execution_count": null,
   "metadata": {},
   "outputs": [],
   "source": [
    "import pandas as pd\n",
    "import numpy as np\n",
    "\n",
    "customer_set = pd.read_csv(\"customer.csv\")\n",
    "bus_parent_set = pd.read_csv(\"bus_parent.csv\")\n",
    "\n",
    "device_count = customer_set.groupby('BUS_ID').count()\n",
    "\n",
    "# customer - device count\n",
    "bus_device = device_count.sort_values(by='RECONCILIATION_ID', ascending=False)\n",
    "\n",
    "# get parent - device count\n",
    "merge_result = pd.merge(bus_device, bus_parent_set, on='BUS_ID')\n",
    "select_res = merge_result[['RECONCILIATION_ID', 'PARENT_ID']]\n",
    "top_parent = select_res.groupby('PARENT_ID').sum().sort_values(by='RECONCILIATION_ID', ascending=False)\n",
    "\n",
    "print(bus_device)\n",
    "print(top_parent)"
   ]
  },
  {
   "cell_type": "code",
   "execution_count": null,
   "metadata": {},
   "outputs": [],
   "source": [
    "device_client = pd.read_csv(\"device_client.csv\")\n",
    "\n",
    "device_count = device_client[['RECONCILIATION_ID', 'NEW_BUS_ID']].groupby('NEW_BUS_ID').count()\n",
    "\n",
    "# customer - device count\n",
    "device_coun_rank = device_count.sort_values(by='RECONCILIATION_ID', ascending=False)\n",
    "\n",
    "device_coun_rank.to_csv('top_clients.csv')"
   ]
  }
 ],
 "metadata": {
  "kernelspec": {
   "display_name": "Python 3",
   "language": "python",
   "name": "python3"
  },
  "language_info": {
   "codemirror_mode": {
    "name": "ipython",
    "version": 3
   },
   "file_extension": ".py",
   "mimetype": "text/x-python",
   "name": "python",
   "nbconvert_exporter": "python",
   "pygments_lexer": "ipython3",
   "version": "3.7.4"
  }
 },
 "nbformat": 4,
 "nbformat_minor": 2
}
