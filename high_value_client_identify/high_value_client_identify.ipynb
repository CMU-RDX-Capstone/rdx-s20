{
 "cells": [
  {
   "cell_type": "markdown",
   "metadata": {},
   "source": [
    "# Dataset Description"
   ]
  },
  {
   "cell_type": "code",
   "execution_count": null,
   "metadata": {},
   "outputs": [],
   "source": [
    "import pandas as pd\n",
    "import numpy as np\n",
    "\n",
    "# device_set = pd.read_csv(\"device.csv\")\n",
    "customer_set = pd.read_csv(\"customer.csv\")\n",
    "bus_parent_set = pd.read_csv(\"bus_parent.csv\")\n",
    "\n",
    "# monitor_count = device_set.groupby('RECON_ID').count()\n",
    "device_count = customer_set.groupby('BUS_ID').count()\n",
    "\n",
    "# device - monitor count\n",
    "# monitor_count.sort_values(by='TARGET_ID', ascending=False)\n",
    "\n",
    "# customer - device count\n",
    "bus_device = device_count.sort_values(by='RECONCILIATION_ID', ascending=False)\n",
    "\n",
    "# get parent - device count\n",
    "merge_result = pd.merge(bus_device, bus_parent_set, on='BUS_ID')\n",
    "select_res = merge_result[['RECONCILIATION_ID', 'PARENT_ID']]\n",
    "top_parent = select_res.groupby('PARENT_ID').sum().sort_values(by='RECONCILIATION_ID', ascending=False)\n",
    "\n",
    "print(bus_device)\n",
    "print(top_parent)\n",
    "\n"
   ]
  },
  {
   "cell_type": "code",
   "execution_count": null,
   "metadata": {},
   "outputs": [],
   "source": []
  },
  {
   "cell_type": "code",
   "execution_count": 75,
   "metadata": {},
   "outputs": [],
   "source": [
    "import pandas as pd\n",
    "\n",
    "device_client = pd.read_csv(\"device_client.csv\")\n",
    "\n",
    "device_count = device_client[['RECONCILIATION_ID', 'NEW_BUS_ID']].groupby('NEW_BUS_ID').count()\n",
    "\n",
    "# customer - device count\n",
    "device_coun_rank = device_count.sort_values(by='RECONCILIATION_ID', ascending=False)\n",
    "\n",
    "# device_coun_rank.to_csv('client_device.csv')\n"
   ]
  },
  {
   "cell_type": "code",
   "execution_count": 72,
   "metadata": {},
   "outputs": [
    {
     "data": {
      "text/html": [
       "<div>\n",
       "<style scoped>\n",
       "    .dataframe tbody tr th:only-of-type {\n",
       "        vertical-align: middle;\n",
       "    }\n",
       "\n",
       "    .dataframe tbody tr th {\n",
       "        vertical-align: top;\n",
       "    }\n",
       "\n",
       "    .dataframe thead th {\n",
       "        text-align: right;\n",
       "    }\n",
       "</style>\n",
       "<table border=\"1\" class=\"dataframe\">\n",
       "  <thead>\n",
       "    <tr style=\"text-align: right;\">\n",
       "      <th></th>\n",
       "      <th>RECONCILIATION_ID</th>\n",
       "    </tr>\n",
       "    <tr>\n",
       "      <th>NEW_BUS_ID</th>\n",
       "      <th></th>\n",
       "    </tr>\n",
       "  </thead>\n",
       "  <tbody>\n",
       "    <tr>\n",
       "      <td>0</td>\n",
       "      <td>1</td>\n",
       "    </tr>\n",
       "    <tr>\n",
       "      <td>1000</td>\n",
       "      <td>1</td>\n",
       "    </tr>\n",
       "    <tr>\n",
       "      <td>1002</td>\n",
       "      <td>1</td>\n",
       "    </tr>\n",
       "    <tr>\n",
       "      <td>1003</td>\n",
       "      <td>1</td>\n",
       "    </tr>\n",
       "    <tr>\n",
       "      <td>1004</td>\n",
       "      <td>1</td>\n",
       "    </tr>\n",
       "    <tr>\n",
       "      <td>...</td>\n",
       "      <td>...</td>\n",
       "    </tr>\n",
       "    <tr>\n",
       "      <td>38740</td>\n",
       "      <td>1</td>\n",
       "    </tr>\n",
       "    <tr>\n",
       "      <td>38741</td>\n",
       "      <td>1</td>\n",
       "    </tr>\n",
       "    <tr>\n",
       "      <td>38753</td>\n",
       "      <td>3</td>\n",
       "    </tr>\n",
       "    <tr>\n",
       "      <td>55556</td>\n",
       "      <td>1</td>\n",
       "    </tr>\n",
       "    <tr>\n",
       "      <td>1006850</td>\n",
       "      <td>1</td>\n",
       "    </tr>\n",
       "  </tbody>\n",
       "</table>\n",
       "<p>5204 rows × 1 columns</p>\n",
       "</div>"
      ],
      "text/plain": [
       "            RECONCILIATION_ID\n",
       "NEW_BUS_ID                   \n",
       "0                           1\n",
       "1000                        1\n",
       "1002                        1\n",
       "1003                        1\n",
       "1004                        1\n",
       "...                       ...\n",
       "38740                       1\n",
       "38741                       1\n",
       "38753                       3\n",
       "55556                       1\n",
       "1006850                     1\n",
       "\n",
       "[5204 rows x 1 columns]"
      ]
     },
     "execution_count": 72,
     "metadata": {},
     "output_type": "execute_result"
    }
   ],
   "source": [
    "device_coun_rank.head()\n"
   ]
  },
  {
   "cell_type": "code",
   "execution_count": null,
   "metadata": {},
   "outputs": [],
   "source": []
  },
  {
   "cell_type": "code",
   "execution_count": null,
   "metadata": {},
   "outputs": [],
   "source": []
  },
  {
   "cell_type": "code",
   "execution_count": null,
   "metadata": {},
   "outputs": [],
   "source": []
  }
 ],
 "metadata": {
  "kernelspec": {
   "display_name": "Python 3",
   "language": "python",
   "name": "python3"
  },
  "language_info": {
   "codemirror_mode": {
    "name": "ipython",
    "version": 3
   },
   "file_extension": ".py",
   "mimetype": "text/x-python",
   "name": "python",
   "nbconvert_exporter": "python",
   "pygments_lexer": "ipython3",
   "version": "3.7.4"
  }
 },
 "nbformat": 4,
 "nbformat_minor": 2
}
