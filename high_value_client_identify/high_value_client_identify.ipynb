{
 "cells": [
  {
   "cell_type": "markdown",
   "metadata": {},
   "source": [
    "# Dataset Description"
   ]
  },
  {
   "cell_type": "code",
   "execution_count": null,
   "metadata": {},
   "outputs": [],
   "source": [
    "import pandas as pd\n",
    "import numpy as np\n",
    "\n",
    "# First in Excel, using VLOOKUP function to find all the clients \n",
    "# that have business parent and use its parent id to represent the client id.\n",
    "# Input file : customer.csv, bus_parent.csv\n",
    "# Output file: combined_customer_parent\n",
    "\n",
    "# Then run the following code to count the number of devices and sort it decsendingly\n",
    "customer = pd.read_csv(\"combined_customer_parent.csv\")\n",
    "\n",
    "# Count the number of devices for each client\n",
    "\n",
    "# 'NEW_BUS_ID'：\n",
    "# If client has a parent id, then this field is parent id;\n",
    "# If client doesn't have a parent id, then this field is client id\n",
    "device_count = customer.groupby('NEW_BUS_ID').count()\n",
    "device_count.columns = ['RECONCILIATION_NUM']\n",
    "\n",
    "# Sort the client value descendintly based on the number of devices\n",
    "\n",
    "# 'RECONCILIATION_NUM': The number of devices\n",
    "bus_device = device_count.sort_values(by='RECONCILIATION_NUM', ascending=False)\n",
    "\n",
    "# Output file: output.csv\n",
    "bus_device.to_csv('output.csv')\n",
    "\n",
    "# Data analysis in Excel based on output.csv:\n",
    "# 1. Get the total number of devices for all clients\n",
    "# 2. Calculate the percentage each clients' devices take\n",
    "# 3. Calculate the accumulative percentage for each client \n",
    "# 4. Number the clients from top to bottom and draw a graph based on accumulative percentage\n",
    "# 5. Observe the accumulative percentage turning point and have a discussion with Navisite\n",
    "# 5. Select the top 150 client\n",
    "\n",
    "# Output file: top_clients.csv"
   ]
  }
 ],
 "metadata": {
  "kernelspec": {
   "display_name": "Python 3",
   "language": "python",
   "name": "python3"
  },
  "language_info": {
   "codemirror_mode": {
    "name": "ipython",
    "version": 3
   },
   "file_extension": ".py",
   "mimetype": "text/x-python",
   "name": "python",
   "nbconvert_exporter": "python",
   "pygments_lexer": "ipython3",
   "version": "3.7.4"
  }
 },
 "nbformat": 4,
 "nbformat_minor": 2
}
