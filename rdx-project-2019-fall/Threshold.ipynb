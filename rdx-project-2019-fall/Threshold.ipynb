{
 "cells": [
  {
   "cell_type": "code",
   "execution_count": 5,
   "metadata": {},
   "outputs": [],
   "source": [
    "#library import\n",
    "import pandas as pd\n",
    "import numpy as np\n",
    "import matplotlib.pyplot as plt\n",
    "import seaborn as sns\n",
    "import datetime\n",
    "import calendar\n",
    "from scipy.stats import iqr\n",
    "import sys"
   ]
  },
  {
   "cell_type": "code",
   "execution_count": 2,
   "metadata": {},
   "outputs": [],
   "source": [
    "#Read the file and return the dataframe\n",
    "def read_file(filename):\n",
    "    df1=pd.read_csv(filename,header=None)\n",
    "    df1.columns=['DeviceID','poller_time','target_id','measured_value','metric_name']\n",
    "    df1=df1.drop(['DeviceID'],axis=1)\n",
    "    return df1\n",
    "#Returns 25th percentile of an array/series\n",
    "def q1(x):\n",
    "    return x.quantile(0.25)\n",
    "#Returns 75th percentile of an array/series\n",
    "def q2(x):\n",
    "    return x.quantile(0.75)\n",
    "#Transform the timestamp and use aggregation functions to group metrics by hour and day of week, for every device-metric combination\n",
    "def df_t(df):\n",
    "    df['poller_time']=df['poller_time'].apply(lambda x:datetime.datetime.fromtimestamp(x))\n",
    "    df['hour']=df['poller_time'].apply(lambda x: x.hour)\n",
    "    df['dayofweek']=df['poller_time'].apply(lambda x: x.weekday())\n",
    "    fdf=df.groupby(['target_id','metric_name','hour','dayofweek']).agg(['mean', 'min','max','median',q1,q2]).reset_index()\n",
    "    return fdf"
   ]
  },
  {
   "cell_type": "code",
   "execution_count": 6,
   "metadata": {},
   "outputs": [],
   "source": [
    "#call the functions\n",
    "new_df=read_file('combined0917-1001.csv')\n",
    "#Transform the dataframe with aggregations\n",
    "trans_df=df_t(new_df)\n",
    "#Assign Column names\n",
    "trans_df.columns=['target_id','metric_name','hour','dayofweek','mean','min','max','median','q1','q2']"
   ]
  },
  {
   "cell_type": "code",
   "execution_count": 18,
   "metadata": {},
   "outputs": [],
   "source": [
    "#Develop device and metric pairs\n",
    "column_df=trans_df.groupby(['target_id','metric_name'])['max'].size().reset_index().rename({'max':'threshold'},axis=1)\n",
    "#For every pair of device-metric find the threshold\n",
    "for i in range(column_df.shape[0]):\n",
    "    #Index alll values of device-metric combo\n",
    "    max1=trans_df.loc[(trans_df['target_id']==column_df.loc[i,'target_id'])&(trans_df['metric_name']==column_df.loc[i,'metric_name']),'max']\n",
    "    #Get IQR and top whisker\n",
    "    quar_75=q2(max1)\n",
    "    iqr1=iqr(max1)\n",
    "    #Determine the threshold\n",
    "    #Outlier=1.5*IQR\n",
    "    if(column_df.loc[i,'target_id']=='utilization'):\n",
    "        column_df.loc[i,'threshold']=max(95,quar_75+iqr1*1.5)\n",
    "    else:\n",
    "        column_df.loc[i,'threshold']=quar_75+iqr1*1.5"
   ]
  },
  {
   "cell_type": "code",
   "execution_count": 20,
   "metadata": {},
   "outputs": [],
   "source": [
    "#Write to file\n",
    "column_df.to_csv('threshold.csv')"
   ]
  }
 ],
 "metadata": {
  "kernelspec": {
   "display_name": "Python 3",
   "language": "python",
   "name": "python3"
  },
  "language_info": {
   "codemirror_mode": {
    "name": "ipython",
    "version": 3
   },
   "file_extension": ".py",
   "mimetype": "text/x-python",
   "name": "python",
   "nbconvert_exporter": "python",
   "pygments_lexer": "ipython3",
   "version": "3.7.4"
  }
 },
 "nbformat": 4,
 "nbformat_minor": 2
}
