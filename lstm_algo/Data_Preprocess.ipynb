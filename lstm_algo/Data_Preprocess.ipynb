{
 "cells": [
  {
   "cell_type": "code",
   "execution_count": 1,
   "metadata": {},
   "outputs": [],
   "source": [
    "# coding: utf-8\n",
    "import pandas as pd"
   ]
  },
  {
   "cell_type": "code",
   "execution_count": 50,
   "metadata": {},
   "outputs": [],
   "source": [
    "def extract(inputfile, outputfile, header, selected_cols, deviceList):\n",
    "    \"\"\"\n",
    "    entry function of the extracting deveices info from raw data for further modeling\n",
    "    :param inputSet: a list of input file (.csv)\n",
    "    :param outputfile: the combined output(.csv) for input\n",
    "    \"\"\"\n",
    "    # events: \"core_time\",\"target_id\",\"policy_id\",\"measured_value\",\"event_code\",\"metric_name\"\n",
    "    df = pd.read_csv(inputfile, sep=',', names=header, error_bad_lines=False)\n",
    "    df_core = df.loc[df['RECON_ID'].isin(deviceList)]\n",
    "    df_core = df_core[selected_cols]\n",
    "    # use the selected columns to do modeling\n",
    "    df_core.to_csv(outputfile, encoding='utf-8', index=False)"
   ]
  },
  {
   "cell_type": "code",
   "execution_count": 52,
   "metadata": {},
   "outputs": [],
   "source": [
    "# input csv log files including path name\n",
    "event_header = ['DESTINATION','CORE_TIME','POLLER_TIME','TARGET_ID',\n",
    "           'POLICY_ID','POLICY_TYPE','DETECTED_SEVERITY','PROPAGATED_SEVERITY',\n",
    "           'LOW_THRESHOLD','MEASURED_VALUE','HIGH_THRESHOLD','PROPAGATED_FLAG','EVENT_CODE',\n",
    "           'METRIC_NAME','RECON_ID','BUS_ID','PARENT_BUS_ID','NEW_BUS_ID','RECONCILIATION_NUM',\n",
    "           'DEVICE_TYPE','OPERATING_SYSTEM','RECONCILIATION_ID','SITE','TYPE_NAME',\n",
    "           'IS_VIRTUAL','PARENT_TARGET_ID','MONITOR_DESC', 'CRAP']\n",
    "event_cols = [\"CORE_TIME\",\"TARGET_ID\",\"POLICY_ID\",'POLICY_TYPE',\"MEASURED_VALUE\",\"EVENT_CODE\",\"METRIC_NAME\", \"RECON_ID\"]\n",
    "input_events = 'data/event-logs-merged.csv'\n",
    "\n",
    "incident_header = ['INCIDENT_ID','SUBMIT_DATE','SUBMIT_DATE_MS','BUS_ID','EVENT_CODE','RECON_ID','EVENT_CODE_ID']\n",
    "input_incidents = 'data/incident-details-merged.csv'\n",
    "# output path name\n",
    "output_events = 'data/output/output_events.csv'\n",
    "output_incidents = 'data/output/output_incidents.csv'\n",
    "deviceList = ['OI-210640589CF011E8B6B8005056AC8828', 'OI-23F36A709CF011E8B954005056AC8828', 'OI-473F7D529CF011E8BCF7005056AC8828']\n",
    "\n",
    "extract(input_events, output_events, event_header, event_cols, deviceList)\n",
    "extract(input_incidents, output_incidents, incident_header, incident_header, deviceList)"
   ]
  },
  {
   "cell_type": "code",
   "execution_count": null,
   "metadata": {},
   "outputs": [],
   "source": []
  }
 ],
 "metadata": {
  "kernelspec": {
   "display_name": "Python 3",
   "language": "python",
   "name": "python3"
  },
  "language_info": {
   "codemirror_mode": {
    "name": "ipython",
    "version": 3
   },
   "file_extension": ".py",
   "mimetype": "text/x-python",
   "name": "python",
   "nbconvert_exporter": "python",
   "pygments_lexer": "ipython3",
   "version": "3.7.4"
  }
 },
 "nbformat": 4,
 "nbformat_minor": 2
}
