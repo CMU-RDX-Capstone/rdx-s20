{
 "cells": [
  {
   "cell_type": "code",
   "execution_count": 2,
   "metadata": {},
   "outputs": [],
   "source": [
    "import numpy as np\n",
    "\n",
    "from keras.models import Sequential\n",
    "from keras.layers import Dense\n",
    "from keras.layers import LSTM"
   ]
  },
  {
   "cell_type": "code",
   "execution_count": 3,
   "metadata": {},
   "outputs": [],
   "source": [
    "data = [[i for i in range(100)]]\n",
    "data = np.array(data, dtype=float)\n",
    "target = [[i for i in range(1,101)]]\n",
    "target = np.array(target, dtype=float)"
   ]
  },
  {
   "cell_type": "code",
   "execution_count": 4,
   "metadata": {},
   "outputs": [
    {
     "data": {
      "text/plain": [
       "array([[ 0.,  1.,  2.,  3.,  4.,  5.,  6.,  7.,  8.,  9., 10., 11., 12.,\n",
       "        13., 14., 15., 16., 17., 18., 19., 20., 21., 22., 23., 24., 25.,\n",
       "        26., 27., 28., 29., 30., 31., 32., 33., 34., 35., 36., 37., 38.,\n",
       "        39., 40., 41., 42., 43., 44., 45., 46., 47., 48., 49., 50., 51.,\n",
       "        52., 53., 54., 55., 56., 57., 58., 59., 60., 61., 62., 63., 64.,\n",
       "        65., 66., 67., 68., 69., 70., 71., 72., 73., 74., 75., 76., 77.,\n",
       "        78., 79., 80., 81., 82., 83., 84., 85., 86., 87., 88., 89., 90.,\n",
       "        91., 92., 93., 94., 95., 96., 97., 98., 99.]])"
      ]
     },
     "execution_count": 4,
     "metadata": {},
     "output_type": "execute_result"
    }
   ],
   "source": [
    "data"
   ]
  },
  {
   "cell_type": "code",
   "execution_count": 5,
   "metadata": {},
   "outputs": [],
   "source": [
    "data = data.reshape((1, 1, 100)) \n",
    "target = target.reshape((1, 1, 100)) \n",
    "x_test=[i for i in range(100,200)]\n",
    "x_test=np.array(x_test).reshape((1,1,100));\n",
    "y_test=[i for i in range(101,201)]\n",
    "y_test=np.array(y_test).reshape(1,1,100)"
   ]
  },
  {
   "cell_type": "code",
   "execution_count": 8,
   "metadata": {},
   "outputs": [
    {
     "name": "stderr",
     "output_type": "stream",
     "text": [
      "/usr/local/lib/python3.7/site-packages/ipykernel_launcher.py:5: UserWarning: The `nb_epoch` argument in `fit` has been renamed `epochs`.\n",
      "  \"\"\"\n"
     ]
    },
    {
     "name": "stdout",
     "output_type": "stream",
     "text": [
      "Train on 1 samples, validate on 1 samples\n",
      "Epoch 1/10\n",
      " - 1s - loss: 50.5222 - accuracy: 0.0000e+00 - val_loss: 150.5189 - val_accuracy: 0.0000e+00\n",
      "Epoch 2/10\n",
      " - 0s - loss: 50.5189 - accuracy: 0.0000e+00 - val_loss: 150.5156 - val_accuracy: 0.0000e+00\n",
      "Epoch 3/10\n",
      " - 0s - loss: 50.5156 - accuracy: 0.0000e+00 - val_loss: 150.5123 - val_accuracy: 0.0000e+00\n",
      "Epoch 4/10\n",
      " - 0s - loss: 50.5123 - accuracy: 0.0000e+00 - val_loss: 150.5090 - val_accuracy: 0.0000e+00\n",
      "Epoch 5/10\n",
      " - 0s - loss: 50.5090 - accuracy: 0.0000e+00 - val_loss: 150.5058 - val_accuracy: 0.0000e+00\n",
      "Epoch 6/10\n",
      " - 0s - loss: 50.5057 - accuracy: 0.0000e+00 - val_loss: 150.5026 - val_accuracy: 0.0000e+00\n",
      "Epoch 7/10\n",
      " - 0s - loss: 50.5026 - accuracy: 0.0000e+00 - val_loss: 150.4993 - val_accuracy: 0.0000e+00\n",
      "Epoch 8/10\n",
      " - 0s - loss: 50.4993 - accuracy: 0.0000e+00 - val_loss: 150.4960 - val_accuracy: 0.0000e+00\n",
      "Epoch 9/10\n",
      " - 0s - loss: 50.4960 - accuracy: 0.0000e+00 - val_loss: 150.4927 - val_accuracy: 0.0000e+00\n",
      "Epoch 10/10\n",
      " - 0s - loss: 50.4927 - accuracy: 0.0000e+00 - val_loss: 150.4894 - val_accuracy: 0.0000e+00\n"
     ]
    },
    {
     "data": {
      "text/plain": [
       "<keras.callbacks.callbacks.History at 0x139306d10>"
      ]
     },
     "execution_count": 8,
     "metadata": {},
     "output_type": "execute_result"
    }
   ],
   "source": [
    "model = Sequential()  \n",
    "model.add(LSTM(100, input_shape=(1, 100),return_sequences=True))\n",
    "model.add(Dense(100))\n",
    "model.compile(loss='mean_absolute_error', optimizer='adam',metrics=['accuracy'])\n",
    "model.fit(data, target, nb_epoch=10, batch_size=1, verbose=2,validation_data=(x_test, y_test))"
   ]
  },
  {
   "cell_type": "code",
   "execution_count": null,
   "metadata": {},
   "outputs": [],
   "source": [
    "predict = model.predict(data)"
   ]
  }
 ],
 "metadata": {
  "kernelspec": {
   "display_name": "Python 3",
   "language": "python",
   "name": "python3"
  },
  "language_info": {
   "codemirror_mode": {
    "name": "ipython",
    "version": 3
   },
   "file_extension": ".py",
   "mimetype": "text/x-python",
   "name": "python",
   "nbconvert_exporter": "python",
   "pygments_lexer": "ipython3",
   "version": "3.7.4"
  }
 },
 "nbformat": 4,
 "nbformat_minor": 2
}
