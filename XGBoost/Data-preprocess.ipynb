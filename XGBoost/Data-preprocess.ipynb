{
 "cells": [
  {
   "cell_type": "code",
   "execution_count": 1,
   "metadata": {
    "scrolled": true
   },
   "outputs": [
    {
     "name": "stdout",
     "output_type": "stream",
     "text": [
      "Collecting pymysql\n",
      "\u001b[?25l  Downloading https://files.pythonhosted.org/packages/ed/39/15045ae46f2a123019aa968dfcba0396c161c20f855f11dea6796bcaae95/PyMySQL-0.9.3-py2.py3-none-any.whl (47kB)\n",
      "\u001b[K    100% |████████████████████████████████| 51kB 12.6MB/s ta 0:00:01\n",
      "\u001b[?25hInstalling collected packages: pymysql\n",
      "Successfully installed pymysql-0.9.3\n",
      "\u001b[33mYou are using pip version 10.0.1, however version 20.1b1 is available.\n",
      "You should consider upgrading via the 'pip install --upgrade pip' command.\u001b[0m\n"
     ]
    }
   ],
   "source": [
    "!pip3 install pymysql\n",
    "import pymysql as MySQLdb\n",
    "import pandas as pd\n",
    "import numpy as np\n",
    "import matplotlib.pyplot as plt\n",
    "pd.options.display.float_format = '{:,.8f}'.format"
   ]
  },
  {
   "cell_type": "code",
   "execution_count": 2,
   "metadata": {},
   "outputs": [],
   "source": [
    "def SQL_TO_DF (SQL, cnx):\n",
    "    \n",
    "    cursor = cnx.cursor() \n",
    "    cursor.execute(SQL)\n",
    "    values = list(cursor.fetchall())\n",
    "    header = cursor.description\n",
    "    cursor.close()\n",
    "    columns = [i[0] for i in header]\n",
    "    raw = pd.DataFrame(values, columns = columns)\n",
    "    return raw"
   ]
  },
  {
   "cell_type": "code",
   "execution_count": 3,
   "metadata": {},
   "outputs": [],
   "source": [
    "cnx = MySQLdb.connect(user='admin', password='rdx-mysql',\n",
    "                              host='database-1.ccbb7nilplok.us-east-1.rds.amazonaws.com',\n",
    "                              database='etl')"
   ]
  },
  {
   "cell_type": "code",
   "execution_count": 4,
   "metadata": {},
   "outputs": [],
   "source": [
    "query = (\"select * from event_incident_mapping_week2 where METRIC_NAME IN ('PctFree','dskPercent','used','utilization','PctTotal','LDldFreeSpacePct','UsedMBPct','LDldDiskTimePercent')\")\n",
    "raw = SQL_TO_DF(query, cnx)\n",
    "query = (\"select * from incidents_week2\")\n",
    "incidents = SQL_TO_DF(query, cnx)"
   ]
  },
  {
   "cell_type": "code",
   "execution_count": 5,
   "metadata": {},
   "outputs": [],
   "source": [
    "# raw.columns"
   ]
  },
  {
   "cell_type": "code",
   "execution_count": 6,
   "metadata": {},
   "outputs": [],
   "source": [
    "mapped_events = raw[raw['HAS_MAPPED_INCIDENT'] == True][['POLLER_TIME','RECON_ID','METRIC_NAME']].drop_duplicates()"
   ]
  },
  {
   "cell_type": "code",
   "execution_count": 7,
   "metadata": {},
   "outputs": [],
   "source": [
    "raw = raw.reset_index()"
   ]
  },
  {
   "cell_type": "code",
   "execution_count": 8,
   "metadata": {},
   "outputs": [],
   "source": [
    "merge = raw.merge(mapped_events, on = ['RECON_ID','METRIC_NAME'], how = 'left')\n",
    "merge['DIFF'] = merge['POLLER_TIME_x'] - merge['POLLER_TIME_y']\n",
    "merge['HAS_NEIGHBOR_INCIDENT'] = (merge['DIFF'] < 3600) & (merge['DIFF'] > -3600)"
   ]
  },
  {
   "cell_type": "code",
   "execution_count": 9,
   "metadata": {},
   "outputs": [],
   "source": [
    "trimmed = merge[['index','POLLER_TIME_x','METRIC_NAME','MEASURED_VALUE','RECON_ID','NEW_BUS_ID','SITE','HAS_NEIGHBOR_INCIDENT','HAS_MAPPED_INCIDENT']]\n",
    "trimmed = trimmed.drop_duplicates()\n",
    "trimmed['MEASURED_VALUE'] = trimmed['MEASURED_VALUE'].astype(float)\n",
    "trimmed = trimmed[trimmed['MEASURED_VALUE'] <= 105]"
   ]
  },
  {
   "cell_type": "code",
   "execution_count": 10,
   "metadata": {},
   "outputs": [],
   "source": [
    "trimmed = pd.get_dummies(trimmed, columns=['METRIC_NAME']).join(trimmed['METRIC_NAME'])\n",
    "for METRIC_NAME in ['LDldDiskTimePercent', 'dskPercent', 'utilization', 'PctTotal','PctFree', 'used', 'LDldFreeSpacePct', 'UsedMBPct']:\n",
    "        trimmed[METRIC_NAME+'_VALUE'] = trimmed['METRIC_NAME_'+METRIC_NAME] * trimmed['MEASURED_VALUE'] \n",
    "        trimmed[METRIC_NAME+'_VALUE'].replace(0, np.nan, inplace=True)"
   ]
  },
  {
   "cell_type": "code",
   "execution_count": 11,
   "metadata": {},
   "outputs": [],
   "source": [
    "trimmed = trimmed[['POLLER_TIME_x','MEASURED_VALUE',\n",
    "       'RECON_ID', 'NEW_BUS_ID', 'SITE','HAS_NEIGHBOR_INCIDENT',\n",
    "       'LDldDiskTimePercent_VALUE', 'dskPercent_VALUE',\n",
    "       'utilization_VALUE', 'PctTotal_VALUE',\n",
    "       'PctFree_VALUE', 'used_VALUE',\n",
    "       'LDldFreeSpacePct_VALUE', 'UsedMBPct_VALUE','METRIC_NAME']]"
   ]
  },
  {
   "cell_type": "code",
   "execution_count": 12,
   "metadata": {},
   "outputs": [],
   "source": [
    "trimmed['HOUR'] =pd.to_datetime(trimmed['POLLER_TIME_x'], unit='s').dt.hour \n",
    "trimmed['WEEKDAY'] =pd.to_datetime(trimmed['POLLER_TIME_x'], unit='s').dt.weekday "
   ]
  },
  {
   "cell_type": "code",
   "execution_count": 13,
   "metadata": {},
   "outputs": [],
   "source": [
    "final_dataset = trimmed.drop(['RECON_ID','METRIC_NAME'], axis = 1)\n",
    "final_dataset.dropna(how='all', axis=1)\n",
    "final_dataset.loc[final_dataset['SITE'].isin(['MMSB400MinutemanRd','MM400MinutemanRoad','MMSB400MinutemanRd']),'SITE'] = 'MM400MinutemanRd'\n",
    "final_dataset.loc[final_dataset['SITE'].isin(['SCCA1302805LafayetteSt','SCCA1202805LafayetteSt','SCCA1102805LafayetteSt']),'SITE'] = 'SCCALafayetteSt'"
   ]
  },
  {
   "cell_type": "code",
   "execution_count": 14,
   "metadata": {},
   "outputs": [],
   "source": [
    "final_dataset.rename(columns = {\"POLLER_TIME_x\":\"POLLER_TIME\"}, inplace = True)"
   ]
  },
  {
   "cell_type": "code",
   "execution_count": 15,
   "metadata": {},
   "outputs": [],
   "source": [
    "final_dataset.to_csv('./final_dataset/week2.csv')"
   ]
  }
 ],
 "metadata": {
  "kernelspec": {
   "display_name": "conda_python3",
   "language": "python",
   "name": "conda_python3"
  },
  "language_info": {
   "codemirror_mode": {
    "name": "ipython",
    "version": 3
   },
   "file_extension": ".py",
   "mimetype": "text/x-python",
   "name": "python",
   "nbconvert_exporter": "python",
   "pygments_lexer": "ipython3",
   "version": "3.6.5"
  }
 },
 "nbformat": 4,
 "nbformat_minor": 2
}
